{
 "cells": [
  {
   "cell_type": "code",
   "execution_count": null,
   "metadata": {},
   "outputs": [],
   "source": [
    "def grams_to_ounces(grams):\n",
    "    ounces_per_gram = 1 / 28.3495231\n",
    "    return grams * ounces_per_gram"
   ]
  },
  {
   "cell_type": "code",
   "execution_count": null,
   "metadata": {},
   "outputs": [],
   "source": [
    "def fahrenheit_to_celsius():\n",
    "    \n",
    "    fahrenheit = float(input(\"Enter temperature in Fahrenheit: \"))\n",
    "    \n",
    "\n",
    "    celsius = (5.0 / 9.0) * (fahrenheit - 32)\n",
    "    \n",
    "    print(f\"{fahrenheit} Fahrenheit is equivalent to {celsius:.2f} Celsius.\")\n"
   ]
  },
  {
   "cell_type": "code",
   "execution_count": null,
   "metadata": {},
   "outputs": [],
   "source": [
    "def solve(numheads, numlegs):\n",
    "    for rabbits in range(numheads + 1):\n",
    "        chickens = numheads - rabbits\n",
    "        if 2 * chickens + 4 * rabbits == numlegs:\n",
    "            print(f\"Rabbits: {rabbits}, Chickens: {chickens}\")\n",
    "            return\n",
    "    print(\"No valid solution.\")"
   ]
  },
  {
   "cell_type": "code",
   "execution_count": null,
   "metadata": {},
   "outputs": [],
   "source": [
    "def is_prime(n):\n",
    "    if n <= 1:\n",
    "        return False\n",
    "    \n",
    "    if n <= 3:\n",
    "        return True\n",
    "\n",
    "    if n % 2 == 0 or n % 3 == 0:\n",
    "        return False\n",
    "    \n",
    "    i = 5\n",
    "    while i * i <= n:\n",
    "        if n % i == 0 or n % (i + 2) == 0:\n",
    "            return False\n",
    "        i += 6\n",
    "    \n",
    "    return True\n",
    "\n",
    "def filter_prime(numbers):\n",
    "    \"\"\"\n",
    "    Return a list of prime numbers from the given list of integers.\n",
    "    \"\"\"\n",
    "    return [num for num in numbers if is_prime(num)]\n",
    "\n",
    "if __name__ == \"__main__\":\n",
    "    nums = [2, 3, 4, 5, 10, 13, 17, 20, 23, 29, 33]\n",
    "    prime_nums = filter_prime(nums)\n",
    "\n",
    "    print(\"Original list:\", nums)\n",
    "    print(\"Prime numbers:\", prime_nums)"
   ]
  },
  {
   "cell_type": "code",
   "execution_count": null,
   "metadata": {},
   "outputs": [],
   "source": [
    "def print_permutations(s, prefix=\"\"):\n",
    "    if len(s) == 0:\n",
    "        print(prefix)\n",
    "    else:\n",
    "        for i in range(len(s)):\n",
    "            print_permutations(s[:i] + s[i+1:], prefix + s[i])\n",
    "\n",
    "x = input()\n",
    "print_permutations(x)"
   ]
  },
  {
   "cell_type": "code",
   "execution_count": null,
   "metadata": {},
   "outputs": [],
   "source": [
    "def reverse_words(sentence):\n",
    "    return \" \".join(sentence.split()[::-1])\n",
    "\n",
    "x = input()\n",
    "print(reverse_words(x))\n"
   ]
  },
  {
   "cell_type": "code",
   "execution_count": null,
   "metadata": {},
   "outputs": [],
   "source": [
    "def has_33(nums):\n",
    "    return any(nums[i] == 3 and nums[i + 1] == 3 for i in range(len(nums) - 1))\n",
    "\n",
    "x = list(map(int, input().split()))\n",
    "print(has_33(x))\n"
   ]
  },
  {
   "cell_type": "code",
   "execution_count": null,
   "metadata": {},
   "outputs": [],
   "source": [
    "import math\n",
    "\n",
    "def sphere_volume(radius):\n",
    "    return (4/3) * math.pi * radius**3\n",
    "\n",
    "r = float(input())\n",
    "print(sphere_volume(r))\n"
   ]
  },
  {
   "cell_type": "code",
   "execution_count": null,
   "metadata": {},
   "outputs": [],
   "source": [
    "def unique_elements(lst):\n",
    "    unique_list = []\n",
    "    for item in lst:\n",
    "        if item not in unique_list:\n",
    "            unique_list.append(item)\n",
    "    return unique_list\n",
    "\n",
    "x = list(map(int, input().split()))\n",
    "print(unique_elements(x))\n"
   ]
  },
  {
   "cell_type": "code",
   "execution_count": null,
   "metadata": {},
   "outputs": [],
   "source": [
    "def is_palindrome(s):\n",
    "    cleaned = \"\".join(s.lower().split())\n",
    "    return cleaned == cleaned[::-1]\n",
    "\n",
    "x = input()\n",
    "print(is_palindrome(x))\n"
   ]
  },
  {
   "cell_type": "code",
   "execution_count": null,
   "metadata": {},
   "outputs": [],
   "source": [
    "def histogram(lst):\n",
    "    for num in lst:\n",
    "        print('*' * num)\n",
    "\n",
    "x = list(map(int, input().split()))\n",
    "histogram(x)\n"
   ]
  },
  {
   "cell_type": "code",
   "execution_count": null,
   "metadata": {},
   "outputs": [],
   "source": [
    "import random\n",
    "\n",
    "def guess_the_number():\n",
    "    number_to_guess = random.randint(1, 20)\n",
    "    attempts = 0\n",
    "\n",
    "    print(\"I am thinking of a number between 1 and 20.\")\n",
    "    \n",
    "    while True:\n",
    "        guess = int(input(\"Take a guess: \"))\n",
    "        attempts += 1\n",
    "\n",
    "        if guess < number_to_guess:\n",
    "            print(\"Your guess is too low.\")\n",
    "        elif guess > number_to_guess:\n",
    "            print(\"Your guess is too high.\")\n",
    "        else:\n",
    "            print(f\"Good job! You guessed my number in {attempts} guesses!\")\n",
    "            break\n",
    "\n",
    "guess_the_number()\n"
   ]
  },
  {
   "cell_type": "code",
   "execution_count": null,
   "metadata": {},
   "outputs": [],
   "source": [
    "# utilities.py\n",
    "\n",
    "import math\n",
    "import random\n",
    "\n",
    "def sphere_volume(radius):\n",
    "    return (4/3) * math.pi * radius**3\n",
    "\n",
    "def is_palindrome(s):\n",
    "    cleaned = \"\".join(s.lower().split())\n",
    "    return cleaned == cleaned[::-1]\n",
    "\n",
    "def unique_elements(lst):\n",
    "    unique_list = []\n",
    "    for item in lst:\n",
    "        if item not in unique_list:\n",
    "            unique_list.append(item)\n",
    "    return unique_list\n",
    "\n",
    "def histogram(lst):\n",
    "    for num in lst:\n",
    "        print('*' * num)\n",
    "\n",
    "def has_33(nums):\n",
    "    return any(nums[i] == 3 and nums[i + 1] == 3 for i in range(len(nums) - 1))\n",
    "\n",
    "def guess_the_number():\n",
    "    number_to_guess = random.randint(1, 20)\n",
    "    attempts = 0\n",
    "    print(\"I am thinking of a number between 1 and 20.\")\n",
    "    \n",
    "    while True:\n",
    "        guess = int(input(\"Take a guess: \"))\n",
    "        attempts += 1\n",
    "\n",
    "        if guess < number_to_guess:\n",
    "            print(\"Your guess is too low.\")\n",
    "        elif guess > number_to_guess:\n",
    "            print(\"Your guess is too high.\")\n",
    "        else:\n",
    "            print(f\"Good job! You guessed my number in {attempts} guesses!\")\n",
    "            break\n"
   ]
  },
  {
   "cell_type": "code",
   "execution_count": null,
   "metadata": {},
   "outputs": [],
   "source": [
    "# main.py\n",
    "\n",
    "from utilities import sphere_volume, is_palindrome, unique_elements, histogram, has_33\n",
    "\n",
    "print(\"Sphere Volume of radius 3:\", sphere_volume(3))\n",
    "\n",
    "word = \"madam\"\n",
    "print(f\"Is '{word}' a palindrome? {is_palindrome(word)}\")\n",
    "\n",
    "numbers = [1, 2, 2, 3, 4, 4, 5]\n",
    "print(\"Unique elements:\", unique_elements(numbers))\n",
    "\n",
    "print(\"Histogram for [3, 5, 2]:\")\n",
    "histogram([3, 5, 2])\n",
    "\n",
    "num_list = [1, 3, 3, 4, 5]\n",
    "print(\"Has consecutive 3s?\", has_33(num_list))\n"
   ]
  }
 ],
 "metadata": {
  "language_info": {
   "name": "python"
  }
 },
 "nbformat": 4,
 "nbformat_minor": 2
}
